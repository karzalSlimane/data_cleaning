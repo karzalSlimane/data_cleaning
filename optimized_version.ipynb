{
 "cells": [
  {
   "cell_type": "code",
   "execution_count": null,
   "id": "76c161e0",
   "metadata": {},
   "outputs": [],
   "source": [
    "\n",
    "# Load essential libraries for data manipulation, visualization, and processing\n",
    "import pandas as pd\n",
    "import matplotlib.pyplot as plt\n",
    "import seaborn as sns\n",
    "from sklearn.impute import KNNImputer\n",
    "from scipy.stats import zscore\n",
    "import numpy as np\n"
   ]
  },
  {
   "cell_type": "code",
   "execution_count": null,
   "id": "f5c1f11f",
   "metadata": {},
   "outputs": [],
   "source": [
    "\n",
    "# Load dataset from CSV file and inspect the first few rows\n",
    "data = pd.read_csv('appartements_data.csv')\n",
    "data.head()\n"
   ]
  },
  {
   "cell_type": "code",
   "execution_count": null,
   "id": "8f80accd",
   "metadata": {},
   "outputs": [],
   "source": [
    "\n",
    "# Create a summary of each column: data types, non-null counts, and missing value percentages\n",
    "data_summary = pd.DataFrame({\n",
    "    \"Column\": data.columns,\n",
    "    \"Data Type\": data.dtypes,\n",
    "    \"Non-Null Count\": data.notnull().sum(),\n",
    "    \"Percentage Missing\": data.isnull().mean() * 100\n",
    "})\n",
    "data_summary\n"
   ]
  },
  {
   "cell_type": "code",
   "execution_count": null,
   "id": "8a14b17b",
   "metadata": {},
   "outputs": [],
   "source": [
    "\n",
    "# Plot missing data percentages for better understanding of missing values in each column\n",
    "missing_pct = data.isnull().mean() * 100\n",
    "missing_pct = missing_pct[missing_pct > 0]\n",
    "\n",
    "plt.figure(figsize=(12, 6))\n",
    "sns.barplot(x=missing_pct.index, y=missing_pct, palette=\"coolwarm\")\n",
    "plt.title(\"Percentage of Missing Values by Column\")\n",
    "plt.xlabel(\"Columns\")\n",
    "plt.ylabel(\"Percentage Missing\")\n",
    "plt.xticks(rotation=45)\n",
    "plt.show()\n"
   ]
  },
  {
   "cell_type": "code",
   "execution_count": null,
   "id": "91548557",
   "metadata": {},
   "outputs": [],
   "source": [
    "\n",
    "# Remove non-numeric characters from 'price' (e.g., \"DH\") and convert to numeric values\n",
    "data['price_numeric'] = data['price'].str.replace(r'[^\\d.]', '', regex=True).astype(float)\n",
    "data[['price', 'price_numeric']].head()\n"
   ]
  },
  {
   "cell_type": "code",
   "execution_count": null,
   "id": "171e8456",
   "metadata": {},
   "outputs": [],
   "source": [
    "\n",
    "# Replace missing values in numeric columns with the median, which is less affected by outliers\n",
    "for column in ['salon', 'chamber', 'toilete', 'area']:\n",
    "    data[column].fillna(data[column].median(), inplace=True)\n",
    "\n",
    "# Use KNN for more precise imputation in 'price_numeric'\n",
    "imputer = KNNImputer(n_neighbors=5)\n",
    "data[['price_numeric']] = imputer.fit_transform(data[['price_numeric']])\n"
   ]
  },
  {
   "cell_type": "code",
   "execution_count": null,
   "id": "f07a222a",
   "metadata": {},
   "outputs": [],
   "source": [
    "\n",
    "# Function to determine 'type_de_vente' using keywords found in 'title'\n",
    "def deduce_sale_type(text):\n",
    "    text = str(text).lower()\n",
    "    if any(word in text for word in [\"louer\", \"location\", \"loué\"]):\n",
    "        return \"rent\"\n",
    "    elif any(word in text for word in [\"vendre\", \"vente\", \"à vendre\"]):\n",
    "        return \"sale\"\n",
    "    return None\n",
    "\n",
    "# Apply the function to populate 'type_de_vente' based on title content\n",
    "data['type_de_vente'] = data.apply(\n",
    "    lambda row: row['type_de_vente'] if pd.notnull(row['type_de_vente']) else deduce_sale_type(row['title']),\n",
    "    axis=1\n",
    ")\n",
    "data['type_de_vente'].fillna(\"unknown\", inplace=True)\n",
    "data['type_de_vente'].value_counts()\n"
   ]
  },
  {
   "cell_type": "code",
   "execution_count": null,
   "id": "a828f179",
   "metadata": {},
   "outputs": [],
   "source": [
    "\n",
    "# Detect outliers in 'price_numeric' using Z-score: values far from the mean (±3 standard deviations)\n",
    "data['price_z'] = zscore(data['price_numeric'])\n",
    "price_outliers = data[(data['price_z'] > 3) | (data['price_z'] < -3)]\n",
    "print(\"Outliers in 'price_numeric':\", len(price_outliers))\n"
   ]
  },
  {
   "cell_type": "code",
   "execution_count": null,
   "id": "151bd67f",
   "metadata": {},
   "outputs": [],
   "source": [
    "\n",
    "# Use a boxplot to visualize outliers in 'price_numeric'\n",
    "plt.figure(figsize=(10, 6))\n",
    "sns.boxplot(data['price_numeric'], color=\"skyblue\")\n",
    "plt.title(\"Boxplot of Property Prices Showing Outliers\")\n",
    "plt.xlabel(\"Price\")\n",
    "plt.show()\n"
   ]
  },
  {
   "cell_type": "code",
   "execution_count": null,
   "id": "d38f14ee",
   "metadata": {},
   "outputs": [],
   "source": [
    "\n",
    "# Calculate Interquartile Range (IQR) for 'area' and detect outliers based on spread\n",
    "Q1 = data['area'].quantile(0.25)\n",
    "Q3 = data['area'].quantile(0.75)\n",
    "IQR = Q3 - Q1\n",
    "area_outliers = data[(data['area'] < (Q1 - 1.5 * IQR)) | (data['area'] > (Q3 + 1.5 * IQR))]\n",
    "print(\"Outliers in 'area':\", len(area_outliers))\n",
    "\n",
    "# Visualize area with a boxplot\n",
    "plt.figure(figsize=(10, 6))\n",
    "sns.boxplot(data['area'], color=\"lightgreen\")\n",
    "plt.title(\"Boxplot of Property Area with Outliers\")\n",
    "plt.xlabel(\"Area (sq meters)\")\n",
    "plt.show()\n"
   ]
  },
  {
   "cell_type": "code",
   "execution_count": null,
   "id": "5d75c80b",
   "metadata": {},
   "outputs": [],
   "source": [
    "\n",
    "from sklearn.preprocessing import StandardScaler, MinMaxScaler\n",
    "\n",
    "# Standardize 'price_numeric' and 'area' to have mean=0 and std=1\n",
    "scaler = StandardScaler()\n",
    "data[['std_price', 'std_area']] = scaler.fit_transform(data[['price_numeric', 'area']])\n",
    "\n",
    "# Normalize 'price_numeric' and 'area' between 0 and 1 for consistent range\n",
    "normalizer = MinMaxScaler()\n",
    "data[['norm_price', 'norm_area']] = normalizer.fit_transform(data[['price_numeric', 'area']])\n",
    "data[['price_numeric', 'std_price', 'norm_price', 'area', 'std_area', 'norm_area']].head()\n"
   ]
  },
  {
   "cell_type": "code",
   "execution_count": null,
   "id": "8e99bdd3",
   "metadata": {},
   "outputs": [],
   "source": [
    "\n",
    "# Plot distributions to compare original, standardized, and normalized data\n",
    "fig, axes = plt.subplots(2, 2, figsize=(14, 10))\n",
    "sns.histplot(data['price_numeric'], kde=True, ax=axes[0, 0], color=\"grey\").set(title='Original Price')\n",
    "sns.histplot(data['std_price'], kde=True, ax=axes[0, 1], color=\"blue\").set(title='Standardized Price')\n",
    "sns.histplot(data['norm_price'], kde=True, ax=axes[1, 0], color=\"green\").set(title='Normalized Price')\n",
    "sns.histplot(data['area'], kde=True, ax=axes[1, 1], color=\"purple\").set(title='Original Area')\n",
    "plt.tight_layout()\n",
    "plt.show()\n"
   ]
  },
  {
   "cell_type": "code",
   "execution_count": null,
   "id": "41e41041",
   "metadata": {},
   "outputs": [],
   "source": [
    "\n",
    "from imblearn.over_sampling import SMOTE\n",
    "\n",
    "# Convert 'type_de_vente' to numerical codes for SMOTE\n",
    "data['sale_type_code'] = data['type_de_vente'].astype('category').cat.codes\n",
    "\n",
    "# Balance classes with SMOTE to address any imbalance in 'sale_type_code'\n",
    "smote = SMOTE(random_state=42)\n",
    "features = data[['std_price', 'std_area', 'salon', 'chamber', 'toilete']]\n",
    "target = data['sale_type_code']\n",
    "balanced_features, balanced_target = smote.fit_resample(features, target)\n",
    "\n",
    "# Check class distribution after SMOTE\n",
    "pd.Series(balanced_target).value_counts()\n"
   ]
  },
  {
   "cell_type": "code",
   "execution_count": null,
   "id": "66f10b03",
   "metadata": {},
   "outputs": [],
   "source": [
    "\n",
    "from sklearn.decomposition import PCA\n",
    "\n",
    "# Reduce data to 2 principal components with PCA\n",
    "pca = PCA(n_components=2)\n",
    "pca_components = pca.fit_transform(balanced_features)\n",
    "\n",
    "# Create a DataFrame for PCA and plot\n",
    "pca_df = pd.DataFrame(pca_components, columns=['PC1', 'PC2'])\n",
    "pca_df['sale_type_code'] = balanced_target\n",
    "\n",
    "# Plot PCA results\n",
    "plt.figure(figsize=(10, 6))\n",
    "sns.scatterplot(data=pca_df, x='PC1', y='PC2', hue='sale_type_code', palette='coolwarm')\n",
    "plt.title(\"2D PCA of Property Data\")\n",
    "plt.xlabel(\"Principal Component 1\")\n",
    "plt.ylabel(\"Principal Component 2\")\n",
    "plt.legend(title='Sale Type Code')\n",
    "plt.show()\n"
   ]
  }
 ],
 "metadata": {},
 "nbformat": 4,
 "nbformat_minor": 5
}
